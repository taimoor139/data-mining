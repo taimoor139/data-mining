{
 "cells": [
  {
   "cell_type": "markdown",
   "id": "0081d975-63e0-49e6-b0d7-a597288d6423",
   "metadata": {},
   "source": [
    "# Report\n",
    "\n",
    "Summarize your findings and motivate your choice of approach. A better motivation shows your understanding of the work. Dont forget to include the result from part 1!"
   ]
  },
  {
   "cell_type": "markdown",
   "id": "b28c7c81-20d8-48f8-85ce-e25d78cf81f1",
   "metadata": {},
   "source": [
    "**Name:** \\\n",
    "**Date:** \n",
    "\n",
    "## Introduction\n",
    "\n",
    "## Result\n",
    "\n",
    "    Exersice 1:\n",
    "\n",
    "        Question 1: \n",
    "                    With additional layers and more epochs result can be improved\n",
    "                    \n",
    "        Question 2:\n",
    "                    Currently it runs with 15 epochs around 30-40 epochs can be reasonable to run\n",
    "                    \n",
    "        Question 3:\n",
    "                    with increased learning rate it'll learn faster but it might not be optimal but with low learning rate it may be optimal\n",
    "                    \n",
    "    Exersice 2:\n",
    "    \n",
    "        Question 1:\n",
    "                   With reduction in training loss feedforward network performs brilliantly.\n",
    "        Question 2:\n",
    "                   Modified feedforward network work better than previous one but training loss is bit higher\n",
    "        Question 3:\n",
    "                   We can reduce number of nodes with an increased number of layers but the accuracy can be vary"
   ]
  },
  {
   "cell_type": "code",
   "execution_count": null,
   "id": "19917ef2",
   "metadata": {},
   "outputs": [],
   "source": []
  }
 ],
 "metadata": {
  "kernelspec": {
   "display_name": "Python 3 (ipykernel)",
   "language": "python",
   "name": "python3"
  },
  "language_info": {
   "codemirror_mode": {
    "name": "ipython",
    "version": 3
   },
   "file_extension": ".py",
   "mimetype": "text/x-python",
   "name": "python",
   "nbconvert_exporter": "python",
   "pygments_lexer": "ipython3",
   "version": "3.9.12"
  }
 },
 "nbformat": 4,
 "nbformat_minor": 5
}
